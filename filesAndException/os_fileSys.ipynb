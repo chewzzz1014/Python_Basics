{
 "cells": [
  {
   "cell_type": "code",
   "execution_count": 1,
   "id": "551f8836",
   "metadata": {},
   "outputs": [
    {
     "data": {
      "text/plain": [
       "'C:\\\\Users\\\\USER\\\\Python_Basics'"
      ]
     },
     "execution_count": 1,
     "metadata": {},
     "output_type": "execute_result"
    }
   ],
   "source": [
    "import os\n",
    "\n",
    "# get current working dir\n",
    "os.getcwd()"
   ]
  },
  {
   "cell_type": "code",
   "execution_count": 2,
   "id": "75271e5d",
   "metadata": {},
   "outputs": [
    {
     "name": "stdout",
     "output_type": "stream",
     "text": [
      "['.git', '.gitignore', '.idea', '.ipynb_checkpoints', 'data-visualization', 'dataStructure', 'dictionary', 'dynamicProg.py', 'filesAndException', 'function', 'fundamental', 'jovian.ai_course_note.ipynb', 'kaggle-courses', 'list', 'local', 'oop', 'README.md', 'selection', 'testing', 'tkinter', '__pycache__']\n",
      "['oop1.py', 'oop2.py', 'oop3.py', 'oop4.py']\n",
      "['.android', '.atom', '.bash_history', '.cache', '.config', '.eclipse', '.git', '.gitconfig', '.gitignore', '.idlerc', '.ipython', '.jupyter', '.lesshst', '.m2', '.matplotlib', '.minttyrc', '.ms-ad', '.node_repl_history', '.p2', '.ssh', '.VirtualBox', '.vscode', '2022-05-17-07-16-14.070-VirtualBox.exe-19828.log', '2022-05-18-03-04-23.072-VirtualBox.exe-20608.log', '3D Objects', 'algo', 'AppData', 'Application Data', 'chewzzz1014.github.io', 'Contacts', 'Cookies', 'Creative Cloud Files', 'Creative Cloud Files chewziqing@gmail.com 93d52eb1df105c2e7f99b4a0044100311375b3c31aa921d1d56eb65bb58ba937', 'css-exercises', 'data-engineering-zoomcamp', 'Desktop', 'Documents', 'Downloads', 'eclipse', 'eclipse-workspace', 'Favorites', 'GitChewzzz1014', 'html-css', 'java-basics', 'javascript-exercises', 'JavaScript_Basics', 'landing-page', 'Links', 'Local Settings', 'markdown-portfolio', 'MicrosoftEdgeBackups', 'Music', 'My Documents', 'mysql-installer-web-community-8.0.28.0.msi', 'NetHood', 'network-simulation', 'New folder', 'NTUSER.DAT', 'ntuser.dat.LOG1', 'ntuser.dat.LOG2', 'NTUSER.DAT{a530169b-e3a9-11eb-aa7d-dce4073a6ca6}.TM.blf', 'NTUSER.DAT{a530169b-e3a9-11eb-aa7d-dce4073a6ca6}.TMContainer00000000000000000001.regtrans-ms', 'NTUSER.DAT{a530169b-e3a9-11eb-aa7d-dce4073a6ca6}.TMContainer00000000000000000002.regtrans-ms', 'ntuser.ini', 'odin-recipes', 'OneDrive', 'Pictures', 'PrintHood', 'Programmes', 'PycharmProjects', 'Python_Basics', 'q', 'README.md', 'Recent', 'rock-paper-scissors', 'Saved Games', 'Searches', 'SendTo', 'space-invader', 'sql-basics', 'Start Menu', 'Templates', 'um-hackathon', 'Videos', 'VirtualBox VMs', 'VisualRoute', 'VisualRoute Lite Edition-Path', 'VisualRoute-Path', 'vw', 'Web-Dev-For-Beginners', 'x.exe', 'x.log']\n"
     ]
    }
   ],
   "source": [
    "# get list of files in current dir\n",
    "print(os.listdir())\n",
    "\n",
    "# relative path\n",
    "print(os.listdir(\"./oop\"))\n",
    "print(os.listdir(\"..\"))"
   ]
  },
  {
   "cell_type": "code",
   "execution_count": 4,
   "id": "7f7f58de",
   "metadata": {},
   "outputs": [
    {
     "name": "stdout",
     "output_type": "stream",
     "text": [
      "File existed!\n",
      "Is directory 'data'? True\n"
     ]
    }
   ],
   "source": [
    "# make new dir\n",
    "\n",
    "# if exist_ok is False, FileExistsError is raised if the target dir ady existed\n",
    "# exist_ok is false by default\n",
    "\n",
    "try:\n",
    "    os.makedirs(\"./data\", exist_ok = False)\n",
    "except FileExistsError:\n",
    "    print(\"File existed!\")\n",
    "\n",
    "print(\"Is directory 'data'?\", ('data' in os.listdir(\".\")))"
   ]
  },
  {
   "cell_type": "code",
   "execution_count": 7,
   "id": "2ff056c9",
   "metadata": {},
   "outputs": [
    {
     "data": {
      "text/plain": [
       "('./data/loans3.txt', <http.client.HTTPMessage at 0x1aa181ff4f0>)"
      ]
     },
     "execution_count": 7,
     "metadata": {},
     "output_type": "execute_result"
    }
   ],
   "source": [
    "# download files into data directory using urlib module\n",
    "from urllib.request import urlretrieve\n",
    "\n",
    "url1 = 'https://gist.githubusercontent.com/aakashns/257f6e6c8719c17d0e498ea287d1a386/raw/7def9ef4234ddf0bc82f855ad67dac8b971852ef/loans1.txt'\n",
    "url2 = 'https://gist.githubusercontent.com/aakashns/257f6e6c8719c17d0e498ea287d1a386/raw/7def9ef4234ddf0bc82f855ad67dac8b971852ef/loans2.txt'\n",
    "url3 = 'https://gist.githubusercontent.com/aakashns/257f6e6c8719c17d0e498ea287d1a386/raw/7def9ef4234ddf0bc82f855ad67dac8b971852ef/loans3.txt'\n",
    "\n",
    "urlretrieve(url1, \"./data/loans1.txt\")\n",
    "urlretrieve(url2, \"./data/loans2.txt\")\n",
    "urlretrieve(url3, \"./data/loans3.txt\")"
   ]
  },
  {
   "cell_type": "code",
   "execution_count": 8,
   "id": "8945ec6e",
   "metadata": {},
   "outputs": [
    {
     "data": {
      "text/plain": [
       "['loans1.txt', 'loans2.txt', 'loans3.txt']"
      ]
     },
     "execution_count": 8,
     "metadata": {},
     "output_type": "execute_result"
    }
   ],
   "source": [
    "# successfully downloaded\n",
    "os.listdir(\"./data\")"
   ]
  },
  {
   "cell_type": "markdown",
   "id": "89406675",
   "metadata": {},
   "source": [
    "## Reading from File"
   ]
  },
  {
   "cell_type": "code",
   "execution_count": 10,
   "id": "2d8d5636",
   "metadata": {},
   "outputs": [
    {
     "name": "stdout",
     "output_type": "stream",
     "text": [
      "amount,duration,rate,down_payment\n",
      "100000,36,0.08,20000\n",
      "200000,12,0.1,\n",
      "628400,120,0.12,100000\n",
      "4637400,240,0.06,\n",
      "42900,90,0.07,8900\n",
      "916000,16,0.13,\n",
      "45230,48,0.08,4300\n",
      "991360,99,0.08,\n",
      "423000,27,0.09,47200\n"
     ]
    },
    {
     "ename": "NameError",
     "evalue": "name 'flie1' is not defined",
     "output_type": "error",
     "traceback": [
      "\u001b[1;31m---------------------------------------------------------------------------\u001b[0m",
      "\u001b[1;31mNameError\u001b[0m                                 Traceback (most recent call last)",
      "Input \u001b[1;32mIn [10]\u001b[0m, in \u001b[0;36m<cell line: 8>\u001b[1;34m()\u001b[0m\n\u001b[0;32m      5\u001b[0m \u001b[38;5;28mprint\u001b[39m(file1_contents)\n\u001b[0;32m      7\u001b[0m file1\u001b[38;5;241m.\u001b[39mclose()\n\u001b[1;32m----> 8\u001b[0m \u001b[43mflie1\u001b[49m\u001b[38;5;241m.\u001b[39mread()\n",
      "\u001b[1;31mNameError\u001b[0m: name 'flie1' is not defined"
     ]
    }
   ],
   "source": [
    "# open(location, mode) return a file object and provides methods for interacting with files\n",
    "file1 = open(\"./data/loans1.txt\", mode = 'r')\n",
    "\n",
    "# read whole file\n",
    "file1_contents = file1.read()\n",
    "print(file1_contents)\n",
    "\n",
    "file1.close()\n",
    "flie1.read()   # error"
   ]
  },
  {
   "cell_type": "code",
   "execution_count": 11,
   "id": "34f90553",
   "metadata": {},
   "outputs": [
    {
     "name": "stdout",
     "output_type": "stream",
     "text": [
      "amount,duration,rate,down_payment\n",
      "100000,36,0.08,20000\n",
      "200000,12,0.1,\n",
      "628400,120,0.12,100000\n",
      "4637400,240,0.06,\n",
      "42900,90,0.07,8900\n",
      "916000,16,0.13,\n",
      "45230,48,0.08,4300\n",
      "991360,99,0.08,\n",
      "423000,27,0.09,47200\n"
     ]
    }
   ],
   "source": [
    "# or\n",
    "\n",
    "# close the file after block\n",
    "# read whole file\n",
    "with open(\"./data/loans1.txt\", 'r') as file_obj:\n",
    "    file_contents = file_obj.read()\n",
    "    print(file_contents)"
   ]
  },
  {
   "cell_type": "code",
   "execution_count": 12,
   "id": "8a503864",
   "metadata": {},
   "outputs": [
    {
     "name": "stdout",
     "output_type": "stream",
     "text": [
      "['amount,duration,rate,down_payment\\n', '100000,36,0.08,20000\\n', '200000,12,0.1,\\n', '628400,120,0.12,100000\\n', '4637400,240,0.06,\\n', '42900,90,0.07,8900\\n', '916000,16,0.13,\\n', '45230,48,0.08,4300\\n', '991360,99,0.08,\\n', '423000,27,0.09,47200']\n",
      "<class 'list'>\n"
     ]
    }
   ],
   "source": [
    "# read line by line\n",
    "with open(\"./data/loans1.txt\", 'r') as file2:\n",
    "    file2_lines = file2.readlines()\n",
    "\n",
    "# a list    \n",
    "print(file2_lines)\n",
    "print(type(file2_lines))"
   ]
  },
  {
   "cell_type": "code",
   "execution_count": null,
   "id": "cf78b883",
   "metadata": {},
   "outputs": [],
   "source": []
  },
  {
   "cell_type": "code",
   "execution_count": null,
   "id": "9fd632b5",
   "metadata": {},
   "outputs": [],
   "source": []
  },
  {
   "cell_type": "code",
   "execution_count": null,
   "id": "525f9b3f",
   "metadata": {},
   "outputs": [],
   "source": []
  },
  {
   "cell_type": "code",
   "execution_count": null,
   "id": "d23c8850",
   "metadata": {},
   "outputs": [],
   "source": []
  },
  {
   "cell_type": "code",
   "execution_count": null,
   "id": "7b6745bc",
   "metadata": {},
   "outputs": [],
   "source": []
  },
  {
   "cell_type": "code",
   "execution_count": null,
   "id": "f555a23c",
   "metadata": {},
   "outputs": [],
   "source": []
  }
 ],
 "metadata": {
  "kernelspec": {
   "display_name": "Python 3 (ipykernel)",
   "language": "python",
   "name": "python3"
  },
  "language_info": {
   "codemirror_mode": {
    "name": "ipython",
    "version": 3
   },
   "file_extension": ".py",
   "mimetype": "text/x-python",
   "name": "python",
   "nbconvert_exporter": "python",
   "pygments_lexer": "ipython3",
   "version": "3.10.0"
  }
 },
 "nbformat": 4,
 "nbformat_minor": 5
}
