{
 "cells": [
  {
   "cell_type": "code",
   "execution_count": 1,
   "id": "3ecdd40a",
   "metadata": {},
   "outputs": [
    {
     "data": {
      "text/plain": [
       "'C:\\\\Users\\\\USER\\\\Python_Basics'"
      ]
     },
     "execution_count": 1,
     "metadata": {},
     "output_type": "execute_result"
    }
   ],
   "source": [
    "import os\n",
    "\n",
    "# get current working dir\n",
    "os.getcwd()"
   ]
  },
  {
   "cell_type": "code",
   "execution_count": 2,
   "id": "50a23497",
   "metadata": {},
   "outputs": [
    {
     "name": "stdout",
     "output_type": "stream",
     "text": [
      "['.git', '.gitignore', '.idea', '.ipynb_checkpoints', 'data-visualization', 'dataStructure', 'dictionary', 'dynamicProg.py', 'filesAndException', 'function', 'fundamental', 'jovian.ai_course_note.ipynb', 'kaggle-courses', 'list', 'local', 'oop', 'README.md', 'selection', 'testing', 'tkinter', '__pycache__']\n",
      "['oop1.py', 'oop2.py', 'oop3.py', 'oop4.py']\n",
      "['.android', '.atom', '.bash_history', '.cache', '.config', '.eclipse', '.git', '.gitconfig', '.gitignore', '.idlerc', '.ipython', '.jupyter', '.lesshst', '.m2', '.matplotlib', '.minttyrc', '.ms-ad', '.node_repl_history', '.p2', '.ssh', '.VirtualBox', '.vscode', '2022-05-17-07-16-14.070-VirtualBox.exe-19828.log', '2022-05-18-03-04-23.072-VirtualBox.exe-20608.log', '3D Objects', 'algo', 'AppData', 'Application Data', 'chewzzz1014.github.io', 'Contacts', 'Cookies', 'Creative Cloud Files', 'Creative Cloud Files chewziqing@gmail.com 93d52eb1df105c2e7f99b4a0044100311375b3c31aa921d1d56eb65bb58ba937', 'css-exercises', 'data-engineering-zoomcamp', 'Desktop', 'Documents', 'Downloads', 'eclipse', 'eclipse-workspace', 'Favorites', 'GitChewzzz1014', 'html-css', 'java-basics', 'javascript-exercises', 'JavaScript_Basics', 'landing-page', 'Links', 'Local Settings', 'markdown-portfolio', 'MicrosoftEdgeBackups', 'Music', 'My Documents', 'mysql-installer-web-community-8.0.28.0.msi', 'NetHood', 'network-simulation', 'New folder', 'NTUSER.DAT', 'ntuser.dat.LOG1', 'ntuser.dat.LOG2', 'NTUSER.DAT{a530169b-e3a9-11eb-aa7d-dce4073a6ca6}.TM.blf', 'NTUSER.DAT{a530169b-e3a9-11eb-aa7d-dce4073a6ca6}.TMContainer00000000000000000001.regtrans-ms', 'NTUSER.DAT{a530169b-e3a9-11eb-aa7d-dce4073a6ca6}.TMContainer00000000000000000002.regtrans-ms', 'ntuser.ini', 'odin-recipes', 'OneDrive', 'Pictures', 'PrintHood', 'Programmes', 'PycharmProjects', 'Python_Basics', 'q', 'README.md', 'Recent', 'rock-paper-scissors', 'Saved Games', 'Searches', 'SendTo', 'space-invader', 'sql-basics', 'Start Menu', 'Templates', 'um-hackathon', 'Videos', 'VirtualBox VMs', 'VisualRoute', 'VisualRoute Lite Edition-Path', 'VisualRoute-Path', 'vw', 'Web-Dev-For-Beginners', 'x.exe', 'x.log']\n"
     ]
    }
   ],
   "source": [
    "# get list of files in current dir\n",
    "print(os.listdir())\n",
    "\n",
    "# relative path\n",
    "print(os.listdir(\"./oop\"))\n",
    "print(os.listdir(\"..\"))"
   ]
  },
  {
   "cell_type": "code",
   "execution_count": 4,
   "id": "e6cfcc95",
   "metadata": {},
   "outputs": [
    {
     "name": "stdout",
     "output_type": "stream",
     "text": [
      "File existed!\n",
      "Is directory 'data'? True\n"
     ]
    }
   ],
   "source": [
    "# make new dir\n",
    "\n",
    "# if exist_ok is False, FileExistsError is raised if the target dir ady existed\n",
    "# exist_ok is false by default\n",
    "\n",
    "try:\n",
    "    os.makedirs(\"./data\", exist_ok = False)\n",
    "except FileExistsError:\n",
    "    print(\"File existed!\")\n",
    "\n",
    "print(\"Is directory 'data'?\", ('data' in os.listdir(\".\")))"
   ]
  },
  {
   "cell_type": "code",
   "execution_count": 7,
   "id": "ccf6da46",
   "metadata": {},
   "outputs": [
    {
     "data": {
      "text/plain": [
       "('./data/loans3.txt', <http.client.HTTPMessage at 0x1aa181ff4f0>)"
      ]
     },
     "execution_count": 7,
     "metadata": {},
     "output_type": "execute_result"
    }
   ],
   "source": [
    "# download files into data directory using urlib module\n",
    "from urllib.request import urlretrieve\n",
    "\n",
    "url1 = 'https://gist.githubusercontent.com/aakashns/257f6e6c8719c17d0e498ea287d1a386/raw/7def9ef4234ddf0bc82f855ad67dac8b971852ef/loans1.txt'\n",
    "url2 = 'https://gist.githubusercontent.com/aakashns/257f6e6c8719c17d0e498ea287d1a386/raw/7def9ef4234ddf0bc82f855ad67dac8b971852ef/loans2.txt'\n",
    "url3 = 'https://gist.githubusercontent.com/aakashns/257f6e6c8719c17d0e498ea287d1a386/raw/7def9ef4234ddf0bc82f855ad67dac8b971852ef/loans3.txt'\n",
    "\n",
    "urlretrieve(url1, \"./data/loans1.txt\")\n",
    "urlretrieve(url2, \"./data/loans2.txt\")\n",
    "urlretrieve(url3, \"./data/loans3.txt\")"
   ]
  },
  {
   "cell_type": "code",
   "execution_count": 8,
   "id": "4c715397",
   "metadata": {},
   "outputs": [
    {
     "data": {
      "text/plain": [
       "['loans1.txt', 'loans2.txt', 'loans3.txt']"
      ]
     },
     "execution_count": 8,
     "metadata": {},
     "output_type": "execute_result"
    }
   ],
   "source": [
    "# successfully downloaded\n",
    "os.listdir(\"./data\")"
   ]
  },
  {
   "cell_type": "markdown",
   "id": "7b0519b9",
   "metadata": {},
   "source": [
    "## Reading from File"
   ]
  },
  {
   "cell_type": "code",
   "execution_count": 10,
   "id": "88740574",
   "metadata": {},
   "outputs": [
    {
     "name": "stdout",
     "output_type": "stream",
     "text": [
      "amount,duration,rate,down_payment\n",
      "100000,36,0.08,20000\n",
      "200000,12,0.1,\n",
      "628400,120,0.12,100000\n",
      "4637400,240,0.06,\n",
      "42900,90,0.07,8900\n",
      "916000,16,0.13,\n",
      "45230,48,0.08,4300\n",
      "991360,99,0.08,\n",
      "423000,27,0.09,47200\n"
     ]
    },
    {
     "ename": "NameError",
     "evalue": "name 'flie1' is not defined",
     "output_type": "error",
     "traceback": [
      "\u001b[1;31m---------------------------------------------------------------------------\u001b[0m",
      "\u001b[1;31mNameError\u001b[0m                                 Traceback (most recent call last)",
      "Input \u001b[1;32mIn [10]\u001b[0m, in \u001b[0;36m<cell line: 8>\u001b[1;34m()\u001b[0m\n\u001b[0;32m      5\u001b[0m \u001b[38;5;28mprint\u001b[39m(file1_contents)\n\u001b[0;32m      7\u001b[0m file1\u001b[38;5;241m.\u001b[39mclose()\n\u001b[1;32m----> 8\u001b[0m \u001b[43mflie1\u001b[49m\u001b[38;5;241m.\u001b[39mread()\n",
      "\u001b[1;31mNameError\u001b[0m: name 'flie1' is not defined"
     ]
    }
   ],
   "source": [
    "# open(location, mode) return a file object and provides methods for interacting with files\n",
    "file1 = open(\"./data/loans1.txt\", mode = 'r')\n",
    "\n",
    "# read whole file\n",
    "file1_contents = file1.read()\n",
    "print(file1_contents)\n",
    "\n",
    "file1.close()\n",
    "flie1.read()   # error"
   ]
  },
  {
   "cell_type": "code",
   "execution_count": 11,
   "id": "5f4eafe8",
   "metadata": {},
   "outputs": [
    {
     "name": "stdout",
     "output_type": "stream",
     "text": [
      "amount,duration,rate,down_payment\n",
      "100000,36,0.08,20000\n",
      "200000,12,0.1,\n",
      "628400,120,0.12,100000\n",
      "4637400,240,0.06,\n",
      "42900,90,0.07,8900\n",
      "916000,16,0.13,\n",
      "45230,48,0.08,4300\n",
      "991360,99,0.08,\n",
      "423000,27,0.09,47200\n"
     ]
    }
   ],
   "source": [
    "# or\n",
    "\n",
    "# close the file after block\n",
    "# read whole file\n",
    "with open(\"./data/loans1.txt\", 'r') as file_obj:\n",
    "    file_contents = file_obj.read()\n",
    "    print(file_contents)"
   ]
  },
  {
   "cell_type": "code",
   "execution_count": 12,
   "id": "ed96b14f",
   "metadata": {},
   "outputs": [
    {
     "name": "stdout",
     "output_type": "stream",
     "text": [
      "['amount,duration,rate,down_payment\\n', '100000,36,0.08,20000\\n', '200000,12,0.1,\\n', '628400,120,0.12,100000\\n', '4637400,240,0.06,\\n', '42900,90,0.07,8900\\n', '916000,16,0.13,\\n', '45230,48,0.08,4300\\n', '991360,99,0.08,\\n', '423000,27,0.09,47200']\n",
      "<class 'list'>\n"
     ]
    }
   ],
   "source": [
    "# read line by line\n",
    "with open(\"./data/loans1.txt\", 'r') as file2:\n",
    "    file2_lines = file2.readlines()\n",
    "\n",
    "# a list    \n",
    "print(file2_lines)\n",
    "print(type(file2_lines))"
   ]
  },
  {
   "cell_type": "code",
   "execution_count": 16,
   "id": "04621f9b",
   "metadata": {},
   "outputs": [],
   "source": [
    "# retrive the data from csv\n",
    "# first, retrieve the headers for each column\n",
    "# then, retrieve the values and store into list\n",
    "\n",
    "def parse_headers(header_line):\n",
    "    return header_line.strip().split(\",\")\n",
    "\n",
    "def parse_values(data_line):\n",
    "    values = []\n",
    "    for item in data_line.strip().split(\",\"):\n",
    "        if item == \"\":\n",
    "            values.append(0.0)\n",
    "        else:\n",
    "            try:\n",
    "                values.append(float(item))\n",
    "            except ValueError:\n",
    "                values.append(item)\n",
    "    return values\n",
    "\n",
    "# create a dict where header as key and value as its value pair\n",
    "# zip(values, headers): Make an iterator that aggregates elements from each of the iterables.\n",
    "def create_item_dict(values, headers):\n",
    "    result = {}\n",
    "    for v, h in zip(values, headers):\n",
    "        result[h] = v\n",
    "    return result"
   ]
  },
  {
   "cell_type": "code",
   "execution_count": 17,
   "id": "d8351c4e",
   "metadata": {},
   "outputs": [
    {
     "name": "stdout",
     "output_type": "stream",
     "text": [
      "['amount', 'duration', 'rate', 'down_payment']\n",
      "[200000.0, 12.0, 0.1, 0.0]\n",
      "{'amount': '2', 'duration': '0', 'rate': '0', 'down_payment': '0'}\n"
     ]
    }
   ],
   "source": [
    "# one item in file2_lines = one row\n",
    "headers = parse_headers(file2_lines[0])\n",
    "print(headers)\n",
    "\n",
    "line_2 = file2_lines[2]\n",
    "print(parse_values(line_2))\n",
    "\n",
    "print(create_item_dict(line_2, headers))"
   ]
  },
  {
   "cell_type": "code",
   "execution_count": 18,
   "id": "131c4151",
   "metadata": {},
   "outputs": [],
   "source": [
    "def read_csv(path):\n",
    "    result = []\n",
    "    with open(path, \"r\") as f:\n",
    "        lines = f.readlines()\n",
    "        \n",
    "        headers = parse_headers(lines[0])\n",
    "        \n",
    "        for data_line in lines[1:]:\n",
    "            values = parse_values(data_line)\n",
    "            \n",
    "            item_dict= create_item_dict(values, headers)\n",
    "            \n",
    "            result.append(item_dict)\n",
    "    return result"
   ]
  },
  {
   "cell_type": "code",
   "execution_count": 19,
   "id": "b03c82ea",
   "metadata": {},
   "outputs": [
    {
     "name": "stdout",
     "output_type": "stream",
     "text": [
      "amount,duration,rate,down_payment\n",
      "828400,120,0.11,100000\n",
      "4633400,240,0.06,\n",
      "42900,90,0.08,8900\n",
      "983000,16,0.14,\n",
      "15230,48,0.07,4300\n"
     ]
    }
   ],
   "source": [
    "# compare the file with what we parsed\n",
    "with open(\"./data/loans2.txt\") as file2:\n",
    "    print(file2.read())"
   ]
  },
  {
   "cell_type": "code",
   "execution_count": 20,
   "id": "126659ce",
   "metadata": {},
   "outputs": [
    {
     "data": {
      "text/plain": [
       "[{'amount': 828400.0,\n",
       "  'duration': 120.0,\n",
       "  'rate': 0.11,\n",
       "  'down_payment': 100000.0},\n",
       " {'amount': 4633400.0, 'duration': 240.0, 'rate': 0.06, 'down_payment': 0.0},\n",
       " {'amount': 42900.0, 'duration': 90.0, 'rate': 0.08, 'down_payment': 8900.0},\n",
       " {'amount': 983000.0, 'duration': 16.0, 'rate': 0.14, 'down_payment': 0.0},\n",
       " {'amount': 15230.0, 'duration': 48.0, 'rate': 0.07, 'down_payment': 4300.0}]"
      ]
     },
     "execution_count": 20,
     "metadata": {},
     "output_type": "execute_result"
    }
   ],
   "source": [
    "read_csv(\"./data/loans2.txt\")"
   ]
  },
  {
   "cell_type": "code",
   "execution_count": 22,
   "id": "b265139b",
   "metadata": {},
   "outputs": [
    {
     "data": {
      "text/plain": [
       "[{'amount': 828400.0,\n",
       "  'duration': 120.0,\n",
       "  'rate': 0.11,\n",
       "  'down_payment': 100000.0},\n",
       " {'amount': 4633400.0, 'duration': 240.0, 'rate': 0.06, 'down_payment': 0.0},\n",
       " {'amount': 42900.0, 'duration': 90.0, 'rate': 0.08, 'down_payment': 8900.0},\n",
       " {'amount': 983000.0, 'duration': 16.0, 'rate': 0.14, 'down_payment': 0.0},\n",
       " {'amount': 15230.0, 'duration': 48.0, 'rate': 0.07, 'down_payment': 4300.0}]"
      ]
     },
     "execution_count": 22,
     "metadata": {},
     "output_type": "execute_result"
    }
   ],
   "source": [
    "# calculating equal monthly installment for a loan\n",
    "# get data from loans2.txt\n",
    "\n",
    "import math\n",
    "\n",
    "def loan_emi(amount, duration, rate, down_payment=0):\n",
    "    loan_amount = amount - down_payment\n",
    "    \n",
    "    try:\n",
    "        emi = loan_amount * rate * ((1+rate)**duration)/(((1+rate)**duration) - 1)\n",
    "    except ZeroDivisionError:\n",
    "        emi = loan_amount / duration\n",
    "        \n",
    "    return math.ceil(emi)\n",
    "\n",
    "loans2 = read_csv(\"./data/loans2.txt\")\n",
    "loans2"
   ]
  },
  {
   "cell_type": "code",
   "execution_count": 23,
   "id": "6d63d54d",
   "metadata": {},
   "outputs": [
    {
     "data": {
      "text/plain": [
       "[{'amount': 828400.0,\n",
       "  'duration': 120.0,\n",
       "  'rate': 0.11,\n",
       "  'down_payment': 100000.0,\n",
       "  'emi': 80125},\n",
       " {'amount': 4633400.0,\n",
       "  'duration': 240.0,\n",
       "  'rate': 0.06,\n",
       "  'down_payment': 0.0,\n",
       "  'emi': 278005},\n",
       " {'amount': 42900.0,\n",
       "  'duration': 90.0,\n",
       "  'rate': 0.08,\n",
       "  'down_payment': 8900.0,\n",
       "  'emi': 2723},\n",
       " {'amount': 983000.0,\n",
       "  'duration': 16.0,\n",
       "  'rate': 0.14,\n",
       "  'down_payment': 0.0,\n",
       "  'emi': 156902},\n",
       " {'amount': 15230.0,\n",
       "  'duration': 48.0,\n",
       "  'rate': 0.07,\n",
       "  'down_payment': 4300.0,\n",
       "  'emi': 797}]"
      ]
     },
     "execution_count": 23,
     "metadata": {},
     "output_type": "execute_result"
    }
   ],
   "source": [
    "for loan in loans2:\n",
    "    loan[\"emi\"] = loan_emi(loan[\"amount\"],\n",
    "                          loan[\"duration\"],\n",
    "                          loan[\"rate\"],\n",
    "                          loan[\"down_payment\"])\n",
    "    \n",
    "loans2"
   ]
  },
  {
   "cell_type": "markdown",
   "id": "f53f5304",
   "metadata": {},
   "source": [
    "## Writing to File"
   ]
  },
  {
   "cell_type": "code",
   "execution_count": 24,
   "id": "f58682e8",
   "metadata": {},
   "outputs": [],
   "source": [
    "# if the file doesn't exist, create the file\n",
    "with open(\"./data/emis2.txt\", \"w\") as f:\n",
    "    for loan in loans2:\n",
    "        f.write(\"{},{},{},{},{}\\n\".format(\n",
    "        loan[\"amount\"],\n",
    "        loan[\"duration\"],\n",
    "        loan[\"rate\"],\n",
    "        loan[\"down_payment\"],\n",
    "        loan[\"emi\"]))"
   ]
  },
  {
   "cell_type": "code",
   "execution_count": 25,
   "id": "3d71b4d7",
   "metadata": {},
   "outputs": [
    {
     "data": {
      "text/plain": [
       "['emis2.txt', 'loans1.txt', 'loans2.txt', 'loans3.txt']"
      ]
     },
     "execution_count": 25,
     "metadata": {},
     "output_type": "execute_result"
    }
   ],
   "source": [
    "os.listdir(\"./data\")"
   ]
  },
  {
   "cell_type": "code",
   "execution_count": 26,
   "id": "757f53db",
   "metadata": {},
   "outputs": [
    {
     "name": "stdout",
     "output_type": "stream",
     "text": [
      "828400.0,120.0,0.11,100000.0,80125\n",
      "4633400.0,240.0,0.06,0.0,278005\n",
      "42900.0,90.0,0.08,8900.0,2723\n",
      "983000.0,16.0,0.14,0.0,156902\n",
      "15230.0,48.0,0.07,4300.0,797\n",
      "\n"
     ]
    }
   ],
   "source": [
    "with open(\"./data/emis2.txt\", \"r\") as r:\n",
    "    print(r.read())"
   ]
  },
  {
   "cell_type": "code",
   "execution_count": 29,
   "id": "932ed6ec",
   "metadata": {},
   "outputs": [],
   "source": [
    "# accept a list of dictionary and write it into csv file\n",
    "# where one dict = one row\n",
    "def write_csv(items, path):\n",
    "    with open(path, \"w\") as f:\n",
    "        if len(items) == 0:\n",
    "            return\n",
    "        \n",
    "        # write headers\n",
    "        headers = list(items[0].keys())\n",
    "        f.write(\",\".join(headers)+\"\\n\")\n",
    "        \n",
    "        # write one item per line\n",
    "        for item in items:\n",
    "            values = []\n",
    "            for header in headers:\n",
    "                values.append(str(item.get(header, \"\")))\n",
    "            f.write(\",\".join(values)+\"\\n\")"
   ]
  },
  {
   "cell_type": "code",
   "execution_count": 30,
   "id": "2b6c1b14",
   "metadata": {},
   "outputs": [],
   "source": [
    "# read from loans3, calculate emi and write back into another csv\n",
    "loans3 = read_csv(\"./data/loans3.txt\")\n",
    "\n",
    "for loan in loans3:\n",
    "    loan[\"emi\"] = loan_emi(loan[\"amount\"],\n",
    "                          loan[\"duration\"],\n",
    "                          loan[\"rate\"],\n",
    "                          loan[\"down_payment\"])\n",
    "\n",
    "write_csv(loans3, \"./data/emis3.txt\")"
   ]
  },
  {
   "cell_type": "code",
   "execution_count": 31,
   "id": "28fb9100",
   "metadata": {},
   "outputs": [
    {
     "name": "stdout",
     "output_type": "stream",
     "text": [
      "amount,duration,rate,down_payment,emi\n",
      "45230.0,48.0,0.07,4300.0,2981\n",
      "883000.0,16.0,0.14,0.0,140941\n",
      "100000.0,12.0,0.1,0.0,14677\n",
      "728400.0,120.0,0.12,100000.0,75409\n",
      "3637400.0,240.0,0.06,0.0,218245\n",
      "82900.0,90.0,0.07,8900.0,5192\n",
      "316000.0,16.0,0.13,0.0,47851\n",
      "15230.0,48.0,0.08,4300.0,897\n",
      "991360.0,99.0,0.08,0.0,79348\n",
      "323000.0,27.0,0.09,4720010000.0,-470717536\n",
      "528400.0,120.0,0.11,100000.0,47125\n",
      "8633400.0,240.0,0.06,0.0,518005\n",
      "12900.0,90.0,0.08,8900.0,321\n",
      "\n"
     ]
    }
   ],
   "source": [
    " with open(\"./data/emis3.txt\", \"r\") as f:\n",
    "        print(f.read())"
   ]
  },
  {
   "cell_type": "markdown",
   "id": "059eacba",
   "metadata": {},
   "source": [
    "## Using Pandas to Read and Write CSV Files"
   ]
  },
  {
   "cell_type": "code",
   "execution_count": 32,
   "id": "5d8e4151",
   "metadata": {},
   "outputs": [
    {
     "data": {
      "text/plain": [
       "[{'title': 'Fast & Furious', 'description': '\"A movie'},\n",
       " {'title': 'The Dark Knight', 'description': '\"Gotham'},\n",
       " {'title': 'Memento',\n",
       "  'description': 'A guy forgets everything every 15 minutes'}]"
      ]
     },
     "execution_count": 32,
     "metadata": {},
     "output_type": "execute_result"
    }
   ],
   "source": [
    "movies_url = \"https://gist.githubusercontent.com/aakashns/afee0a407d44bbc02321993548021af9/raw/6d7473f0ac4c54aca65fc4b06ed831b8a4840190/movies.csv\"\n",
    "\n",
    "urlretrieve(movies_url, 'data/movies.csv')\n",
    "\n",
    "movies = read_csv(\"data/movies.csv\")\n",
    "\n",
    "movies"
   ]
  },
  {
   "cell_type": "code",
   "execution_count": 34,
   "id": "70132808",
   "metadata": {},
   "outputs": [
    {
     "data": {
      "text/html": [
       "<div>\n",
       "<style scoped>\n",
       "    .dataframe tbody tr th:only-of-type {\n",
       "        vertical-align: middle;\n",
       "    }\n",
       "\n",
       "    .dataframe tbody tr th {\n",
       "        vertical-align: top;\n",
       "    }\n",
       "\n",
       "    .dataframe thead th {\n",
       "        text-align: right;\n",
       "    }\n",
       "</style>\n",
       "<table border=\"1\" class=\"dataframe\">\n",
       "  <thead>\n",
       "    <tr style=\"text-align: right;\">\n",
       "      <th></th>\n",
       "      <th>title</th>\n",
       "      <th>description</th>\n",
       "    </tr>\n",
       "  </thead>\n",
       "  <tbody>\n",
       "    <tr>\n",
       "      <th>0</th>\n",
       "      <td>Fast &amp; Furious</td>\n",
       "      <td>A movie, a race, a franchise</td>\n",
       "    </tr>\n",
       "    <tr>\n",
       "      <th>1</th>\n",
       "      <td>The Dark Knight</td>\n",
       "      <td>Gotham, the \"Batman\", and the Joker</td>\n",
       "    </tr>\n",
       "    <tr>\n",
       "      <th>2</th>\n",
       "      <td>Memento</td>\n",
       "      <td>A guy forgets everything every 15 minutes</td>\n",
       "    </tr>\n",
       "  </tbody>\n",
       "</table>\n",
       "</div>"
      ],
      "text/plain": [
       "             title                                description\n",
       "0   Fast & Furious               A movie, a race, a franchise\n",
       "1  The Dark Knight        Gotham, the \"Batman\", and the Joker\n",
       "2          Memento  A guy forgets everything every 15 minutes"
      ]
     },
     "execution_count": 34,
     "metadata": {},
     "output_type": "execute_result"
    }
   ],
   "source": [
    "import pandas as pd\n",
    "\n",
    "movies_df = pd.read_csv(\"data/movies.csv\")\n",
    "movies_df"
   ]
  },
  {
   "cell_type": "code",
   "execution_count": 35,
   "id": "4042a6ff",
   "metadata": {},
   "outputs": [
    {
     "data": {
      "text/plain": [
       "[{'title': 'Fast & Furious', 'description': 'A movie, a race, a franchise'},\n",
       " {'title': 'The Dark Knight',\n",
       "  'description': 'Gotham, the \"Batman\", and the Joker'},\n",
       " {'title': 'Memento',\n",
       "  'description': 'A guy forgets everything every 15 minutes'}]"
      ]
     },
     "execution_count": 35,
     "metadata": {},
     "output_type": "execute_result"
    }
   ],
   "source": [
    "# df -> dict\n",
    "movies = movies_df.to_dict(\"records\")\n",
    "movies"
   ]
  },
  {
   "cell_type": "code",
   "execution_count": 37,
   "id": "b3e2538b",
   "metadata": {},
   "outputs": [
    {
     "data": {
      "text/html": [
       "<div>\n",
       "<style scoped>\n",
       "    .dataframe tbody tr th:only-of-type {\n",
       "        vertical-align: middle;\n",
       "    }\n",
       "\n",
       "    .dataframe tbody tr th {\n",
       "        vertical-align: top;\n",
       "    }\n",
       "\n",
       "    .dataframe thead th {\n",
       "        text-align: right;\n",
       "    }\n",
       "</style>\n",
       "<table border=\"1\" class=\"dataframe\">\n",
       "  <thead>\n",
       "    <tr style=\"text-align: right;\">\n",
       "      <th></th>\n",
       "      <th></th>\n",
       "      <th>title</th>\n",
       "      <th>description</th>\n",
       "    </tr>\n",
       "  </thead>\n",
       "  <tbody>\n",
       "    <tr>\n",
       "      <th>Fast &amp; Furious</th>\n",
       "      <th>A movie</th>\n",
       "      <td>a race</td>\n",
       "      <td>a franchise</td>\n",
       "    </tr>\n",
       "    <tr>\n",
       "      <th>The Dark Knight</th>\n",
       "      <th>Gotham</th>\n",
       "      <td>the \"Batman\"</td>\n",
       "      <td>and the Joker</td>\n",
       "    </tr>\n",
       "    <tr>\n",
       "      <th>Memento</th>\n",
       "      <th>A guy forgets everything every 15 minutes</th>\n",
       "      <td>NaN</td>\n",
       "      <td>NaN</td>\n",
       "    </tr>\n",
       "  </tbody>\n",
       "</table>\n",
       "</div>"
      ],
      "text/plain": [
       "                                                                   title  \\\n",
       "Fast & Furious  A movie                                           a race   \n",
       "The Dark Knight Gotham                                      the \"Batman\"   \n",
       "Memento         A guy forgets everything every 15 minutes            NaN   \n",
       "\n",
       "                                                              description  \n",
       "Fast & Furious  A movie                                       a franchise  \n",
       "The Dark Knight Gotham                                      and the Joker  \n",
       "Memento         A guy forgets everything every 15 minutes             NaN  "
      ]
     },
     "execution_count": 37,
     "metadata": {},
     "output_type": "execute_result"
    }
   ],
   "source": [
    "# dict -> csv\n",
    "write_csv(movies, \"movies2.csv\")\n",
    "pd.read_csv(\"movies2.csv\")"
   ]
  }
 ],
 "metadata": {
  "kernelspec": {
   "display_name": "Python 3 (ipykernel)",
   "language": "python",
   "name": "python3"
  },
  "language_info": {
   "codemirror_mode": {
    "name": "ipython",
    "version": 3
   },
   "file_extension": ".py",
   "mimetype": "text/x-python",
   "name": "python",
   "nbconvert_exporter": "python",
   "pygments_lexer": "ipython3",
   "version": "3.10.0"
  }
 },
 "nbformat": 4,
 "nbformat_minor": 5
}
