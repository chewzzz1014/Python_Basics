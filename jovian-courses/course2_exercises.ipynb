{
 "cells": [
  {
   "cell_type": "code",
   "execution_count": 1,
   "id": "ea5741d5",
   "metadata": {},
   "outputs": [],
   "source": [
    "url1 = 'https://gist.githubusercontent.com/aakashns/257f6e6c8719c17d0e498ea287d1a386/raw/7def9ef4234ddf0bc82f855ad67dac8b971852ef/loans1.txt'\n",
    "url2 = 'https://gist.githubusercontent.com/aakashns/257f6e6c8719c17d0e498ea287d1a386/raw/7def9ef4234ddf0bc82f855ad67dac8b971852ef/loans2.txt'\n",
    "url3 = 'https://gist.githubusercontent.com/aakashns/257f6e6c8719c17d0e498ea287d1a386/raw/7def9ef4234ddf0bc82f855ad67dac8b971852ef/loans3.txt'"
   ]
  },
  {
   "cell_type": "code",
   "execution_count": 4,
   "id": "8f7659ce",
   "metadata": {},
   "outputs": [
    {
     "data": {
      "text/plain": [
       "'C:\\\\Users\\\\USER\\\\Python_Basics\\\\jovian-courses'"
      ]
     },
     "execution_count": 4,
     "metadata": {},
     "output_type": "execute_result"
    }
   ],
   "source": [
    "import os\n",
    "os.getcwd()"
   ]
  },
  {
   "cell_type": "code",
   "execution_count": 6,
   "id": "647bdc74",
   "metadata": {},
   "outputs": [
    {
     "data": {
      "text/plain": [
       "('../data/loans3.txt', <http.client.HTTPMessage at 0x169ae76e380>)"
      ]
     },
     "execution_count": 6,
     "metadata": {},
     "output_type": "execute_result"
    }
   ],
   "source": [
    "from urllib.request import urlretrieve\n",
    "\n",
    "urlretrieve(url1, \"../data/loans1.txt\")\n",
    "urlretrieve(url2, \"../data/loans2.txt\")\n",
    "urlretrieve(url3, \"../data/loans3.txt\")"
   ]
  },
  {
   "cell_type": "code",
   "execution_count": 18,
   "id": "4a647ec4",
   "metadata": {},
   "outputs": [],
   "source": [
    "def get_header(first_row):\n",
    "    return first_row.strip().split(\",\")\n",
    "\n",
    "def read_csv_columnar(path):\n",
    "    with open(path, \"r\") as r:\n",
    "        file_contents = r.readlines()\n",
    "        \n",
    "    headers = get_header(file_contents[0])\n",
    "    \n",
    "    values = {}\n",
    "    for h in headers:\n",
    "        values[h] = []\n",
    "    \n",
    "    for row in file_contents[1:]:\n",
    "        value = row.strip().split(\",\")\n",
    "        for h, v in zip(headers, value):\n",
    "            if v == \"\":\n",
    "                values[h].append(0)\n",
    "            else:\n",
    "                values[h].append(float(v))\n",
    "    return values"
   ]
  },
  {
   "cell_type": "code",
   "execution_count": 25,
   "id": "7cdc7aa9",
   "metadata": {},
   "outputs": [],
   "source": [
    "import math\n",
    "\n",
    "def loan_emi(amount, duration, rate, down_payment=0):\n",
    "    loan_amount = amount - down_payment\n",
    "    \n",
    "    try:\n",
    "        emi = loan_amount * rate * ((1+rate)**duration)/(((1+rate)**duration) - 1)\n",
    "    except ZeroDivisionError:\n",
    "        emi = loan_amount / duration\n",
    "        \n",
    "    return math.ceil(emi)\n",
    "\n",
    "def compute_emis(data_list):\n",
    "    data_list[\"emis\"] = []\n",
    "    for i in range(len(data_list[\"amount\"])):\n",
    "        data_list[\"emis\"].append(loan_emi(data_list[\"amount\"][i],\n",
    "                                          data_list[\"duration\"][i],\n",
    "                                          data_list[\"rate\"][i],\n",
    "                                          data_list[\"down_payment\"][i]))"
   ]
  },
  {
   "cell_type": "code",
   "execution_count": 45,
   "id": "9302d73b",
   "metadata": {},
   "outputs": [],
   "source": [
    "def write_csv_columnar(data_dict, i):\n",
    "    headers = list(data_dict.keys())\n",
    "    all_amount = data_dict[\"amount\"]\n",
    "    all_duration = data_dict[\"duration\"]\n",
    "    all_rate = data_dict[\"rate\"]\n",
    "    all_down_payment = data_dict[\"down_payment\"]\n",
    "    all_emis = data_dict[\"emis\"]\n",
    "    \n",
    "    path = \"../data/emis{}.csv\".format(i)\n",
    "    with open(path, \"w\") as w:\n",
    "        w.write(\",\".join(headers)+\"\\n\")\n",
    "        \n",
    "        for idx in range(len(all_amount)):\n",
    "            value = [str(all_amount[idx]),\n",
    "                     str(all_duration[idx]),\n",
    "                     str(all_rate[idx]),\n",
    "                     str(all_down_payment[idx]),\n",
    "                     str(all_emis[idx])]\n",
    "            w.write(\",\".join(value)+\"\\n\")"
   ]
  },
  {
   "cell_type": "code",
   "execution_count": 52,
   "id": "fd79b54c",
   "metadata": {},
   "outputs": [],
   "source": [
    "src_paths = [\"../data/loans{}.txt\".format(i) for i in range(1,4)]\n",
    "\n",
    "for i in range(len(src_paths)):\n",
    "    data = read_csv_columnar(src_paths[i])\n",
    "    compute_emis(data)\n",
    "    write_csv_columnar(data, i+1)"
   ]
  },
  {
   "cell_type": "code",
   "execution_count": 53,
   "id": "e34b94f4",
   "metadata": {},
   "outputs": [
    {
     "data": {
      "text/plain": [
       "['amount,duration,rate,down_payment,emis\\n',\n",
       " '100000.0,36.0,0.08,20000.0,6828\\n',\n",
       " '200000.0,12.0,0.1,0,29353\\n',\n",
       " '628400.0,120.0,0.12,100000.0,63409\\n',\n",
       " '4637400.0,240.0,0.06,0,278245\\n',\n",
       " '42900.0,90.0,0.07,8900.0,2386\\n',\n",
       " '916000.0,16.0,0.13,0,138707\\n',\n",
       " '45230.0,48.0,0.08,4300.0,3358\\n',\n",
       " '991360.0,99.0,0.08,0,79348\\n',\n",
       " '423000.0,27.0,0.09,47200.0,37481\\n']"
      ]
     },
     "execution_count": 53,
     "metadata": {},
     "output_type": "execute_result"
    }
   ],
   "source": [
    "with open(\"../data/emis1.csv\", \"r\") as r:\n",
    "     c = r.readlines()\n",
    "c"
   ]
  },
  {
   "cell_type": "code",
   "execution_count": 54,
   "id": "9b347f3e",
   "metadata": {},
   "outputs": [
    {
     "data": {
      "text/plain": [
       "['amount,duration,rate,down_payment,emis\\n',\n",
       " '828400.0,120.0,0.11,100000.0,80125\\n',\n",
       " '4633400.0,240.0,0.06,0,278005\\n',\n",
       " '42900.0,90.0,0.08,8900.0,2723\\n',\n",
       " '983000.0,16.0,0.14,0,156902\\n',\n",
       " '15230.0,48.0,0.07,4300.0,797\\n']"
      ]
     },
     "execution_count": 54,
     "metadata": {},
     "output_type": "execute_result"
    }
   ],
   "source": [
    "with open(\"../data/emis2.csv\", \"r\") as r:\n",
    "     c = r.readlines()\n",
    "c"
   ]
  },
  {
   "cell_type": "code",
   "execution_count": 55,
   "id": "cc3fc633",
   "metadata": {},
   "outputs": [
    {
     "data": {
      "text/plain": [
       "['amount,duration,rate,down_payment,emis\\n',\n",
       " '45230.0,48.0,0.07,4300.0,2981\\n',\n",
       " '883000.0,16.0,0.14,0,140941\\n',\n",
       " '100000.0,12.0,0.1,0,14677\\n',\n",
       " '728400.0,120.0,0.12,100000.0,75409\\n',\n",
       " '3637400.0,240.0,0.06,0,218245\\n',\n",
       " '82900.0,90.0,0.07,8900.0,5192\\n',\n",
       " '316000.0,16.0,0.13,0,47851\\n',\n",
       " '15230.0,48.0,0.08,4300.0,897\\n',\n",
       " '991360.0,99.0,0.08,0,79348\\n',\n",
       " '323000.0,27.0,0.09,4720010000.0,-470717536\\n',\n",
       " '528400.0,120.0,0.11,100000.0,47125\\n',\n",
       " '8633400.0,240.0,0.06,0,518005\\n',\n",
       " '12900.0,90.0,0.08,8900.0,321\\n']"
      ]
     },
     "execution_count": 55,
     "metadata": {},
     "output_type": "execute_result"
    }
   ],
   "source": [
    "with open(\"../data/emis3.csv\", \"r\") as r:\n",
    "     c = r.readlines()\n",
    "c"
   ]
  }
 ],
 "metadata": {
  "kernelspec": {
   "display_name": "Python 3 (ipykernel)",
   "language": "python",
   "name": "python3"
  },
  "language_info": {
   "codemirror_mode": {
    "name": "ipython",
    "version": 3
   },
   "file_extension": ".py",
   "mimetype": "text/x-python",
   "name": "python",
   "nbconvert_exporter": "python",
   "pygments_lexer": "ipython3",
   "version": "3.10.0"
  }
 },
 "nbformat": 4,
 "nbformat_minor": 5
}
