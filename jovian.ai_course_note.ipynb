{
 "cells": [
  {
   "cell_type": "code",
   "execution_count": 1,
   "id": "839aabc6",
   "metadata": {},
   "outputs": [
    {
     "data": {
      "text/plain": [
       "125.0"
      ]
     },
     "execution_count": 1,
     "metadata": {},
     "output_type": "execute_result"
    }
   ],
   "source": [
    "500 * (1.25 * 0.2)"
   ]
  },
  {
   "cell_type": "code",
   "execution_count": 2,
   "id": "6d835a0e",
   "metadata": {},
   "outputs": [],
   "source": [
    "def cal_profit(num_bags, price_per_bag, percentage_profit):\n",
    "    return num_bags * (price_per_bag * (percentage_profit/100))"
   ]
  },
  {
   "cell_type": "code",
   "execution_count": 3,
   "id": "7ffbb600",
   "metadata": {},
   "outputs": [
    {
     "data": {
      "text/plain": [
       "125.0"
      ]
     },
     "execution_count": 3,
     "metadata": {},
     "output_type": "execute_result"
    }
   ],
   "source": [
    "cal_profit(500, 1.25, 20)"
   ]
  },
  {
   "cell_type": "code",
   "execution_count": 4,
   "id": "86b65d31",
   "metadata": {},
   "outputs": [],
   "source": [
    "def calc_revenue(cost, num_passengers, ticket_price):\n",
    "    return num_passengers * ticket_price - cost"
   ]
  },
  {
   "cell_type": "code",
   "execution_count": 5,
   "id": "4819ccf5",
   "metadata": {},
   "outputs": [
    {
     "data": {
      "text/plain": [
       "800"
      ]
     },
     "execution_count": 5,
     "metadata": {},
     "output_type": "execute_result"
    }
   ],
   "source": [
    "calc_revenue(5000, 29, 200)"
   ]
  },
  {
   "cell_type": "markdown",
   "id": "6a987d5d",
   "metadata": {},
   "source": [
    "# Header 1\n",
    "## Header 2\n",
    "\n",
    "* Apple\n",
    "* Banana\n",
    "* Orange\n"
   ]
  },
  {
   "cell_type": "code",
   "execution_count": 30,
   "id": "78f36ba6",
   "metadata": {},
   "outputs": [
    {
     "name": "stdout",
     "output_type": "stream",
     "text": [
      " : False.    is falsy\n",
      "\n",
      "[] : False.   [] is falsy\n",
      "\n",
      "{} : False.   {} is falsy\n",
      "\n",
      "() : False.   () is falsy\n",
      "\n",
      "None : False.   None is falsy\n",
      "\n",
      "range(0, 0) : False.   range(0, 0) is falsy\n",
      "\n"
     ]
    }
   ],
   "source": [
    "# Python has falsy values \n",
    "falsy = [\"\", [], {}, (), None, range(0)]\n",
    "\n",
    "for ele in falsy: \n",
    "    print(ele, \":\", bool(ele), end=\".   \")\n",
    "    \n",
    "    if ele:\n",
    "        print(\"{} is truthy\".format(ele))\n",
    "    else:\n",
    "        print(\"{} is falsy\".format(ele))\n",
    "    \n",
    "    print()"
   ]
  },
  {
   "cell_type": "code",
   "execution_count": 15,
   "id": "419b2a26",
   "metadata": {},
   "outputs": [
    {
     "data": {
      "text/plain": [
       "NoneType"
      ]
     },
     "execution_count": 15,
     "metadata": {},
     "output_type": "execute_result"
    }
   ],
   "source": [
    "# None: absence of value\n",
    "type(None)"
   ]
  },
  {
   "cell_type": "code",
   "execution_count": 17,
   "id": "bc5d1fc3",
   "metadata": {},
   "outputs": [
    {
     "name": "stdout",
     "output_type": "stream",
     "text": [
      "The price is RM245.99 and progit margin is 0.75%. So the profit is RM184.4925\n"
     ]
    }
   ],
   "source": [
    "# formatting\n",
    "profit_margin = 0.75\n",
    "price = 245.99\n",
    "\n",
    "print(\"The price is RM{} and progit margin is {}%. So the profit is RM{}\"\n",
    "      .format(price, profit_margin, price*profit_margin))"
   ]
  },
  {
   "cell_type": "code",
   "execution_count": 20,
   "id": "0622a86a",
   "metadata": {},
   "outputs": [
    {
     "data": {
      "text/plain": [
       "[]"
      ]
     },
     "execution_count": 20,
     "metadata": {},
     "output_type": "execute_result"
    }
   ],
   "source": [
    "a_list = [False, \"rtgg\", 3435, None, [\"A\", \"B\", \"C\"]]\n",
    "a_list[-2: -5]"
   ]
  },
  {
   "cell_type": "code",
   "execution_count": 23,
   "id": "bd6e9266",
   "metadata": {},
   "outputs": [
    {
     "name": "stdout",
     "output_type": "stream",
     "text": [
      "<class 'tuple'>\n",
      "<class 'tuple'>\n"
     ]
    }
   ],
   "source": [
    "# creation of tuple: with or w/o parenthesis\n",
    "my_tuple = (\"Cat\", \"Meow\", \"Woof\")\n",
    "my_tuple_1 = \"Cat\", \"Meow\", \"Woof\"\n",
    "tuple_one_ele = \"Wooff\",\n",
    "\n",
    "print(type(my_tuple_1))\n",
    "print(type(tuple_one_ele))"
   ]
  },
  {
   "cell_type": "code",
   "execution_count": 24,
   "id": "b0bb1d56",
   "metadata": {},
   "outputs": [],
   "source": [
    "?my_tuple.index"
   ]
  },
  {
   "cell_type": "code",
   "execution_count": 26,
   "id": "8285acfb",
   "metadata": {},
   "outputs": [
    {
     "data": {
      "text/plain": [
       "dict_items"
      ]
     },
     "execution_count": 26,
     "metadata": {},
     "output_type": "execute_result"
    }
   ],
   "source": [
    "my_dict = { \"name\": \"chewzzz\", \"age\": 20, \"isStudent\": True}\n",
    "type(my_dict.items())"
   ]
  },
  {
   "cell_type": "code",
   "execution_count": 32,
   "id": "dbb773cb",
   "metadata": {},
   "outputs": [
    {
     "data": {
      "text/plain": [
       "'no'"
      ]
     },
     "execution_count": 32,
     "metadata": {},
     "output_type": "execute_result"
    }
   ],
   "source": [
    "def check_parity(n):\n",
    "    divisibleBy2 = \"yes\" if (n % 2==0) else \"no\"\n",
    "    return divisibleBy2\n",
    "check_parity(231)"
   ]
  },
  {
   "cell_type": "code",
   "execution_count": 34,
   "id": "b54ed25f",
   "metadata": {},
   "outputs": [],
   "source": [
    "# using pass to do nothing to avoid error\n",
    "def divisible(n):\n",
    "    if n % 2 == 0:\n",
    "        pass      # mandatory to have at least one line of statement\n",
    "    elif n % 3 == 0:\n",
    "        print(\"Divisible by 3\")\n",
    "        \n",
    "divisible(4)   # no output. nothing happen"
   ]
  },
  {
   "cell_type": "code",
   "execution_count": 36,
   "id": "9e771b67",
   "metadata": {},
   "outputs": [
    {
     "data": {
      "text/plain": [
       "[2, 4, 6]"
      ]
     },
     "execution_count": 36,
     "metadata": {},
     "output_type": "execute_result"
    }
   ],
   "source": [
    "def filter_even(number_list):\n",
    "    return [x for x in number_list if x%2==0]\n",
    "filter_even([x for x in range(1, 8)])"
   ]
  },
  {
   "cell_type": "code",
   "execution_count": 37,
   "id": "30b8e5d8",
   "metadata": {},
   "outputs": [
    {
     "name": "stdout",
     "output_type": "stream",
     "text": [
      "Division by 0!\n",
      "None\n"
     ]
    }
   ],
   "source": [
    "# exception\n",
    "def divisionBy0(n):\n",
    "    try: # step 1\n",
    "        print(\"Calculation\")   # step 2 \n",
    "        result = n / 0    # step 3.Error found!\n",
    "        print(\"Calculated successfully\")\n",
    "    except ZeroDivisionError: #step 4\n",
    "        print(\"Division by 0!\")\n",
    "        result = None\n",
    "print(divisionBy0(4))"
   ]
  },
  {
   "cell_type": "code",
   "execution_count": 45,
   "id": "b43464d4",
   "metadata": {},
   "outputs": [
    {
     "name": "stdout",
     "output_type": "stream",
     "text": [
      "Lowest cost for 7 days: Dubai\n",
      "Lowest cost for 4 days: Dubai\n",
      "Lowest cost for 10 days: Dubai\n",
      "Lowest cost for 14 days: Dubai\n"
     ]
    }
   ],
   "source": [
    "def cost_of_trip(days):\n",
    "    costs = {}\n",
    "    week_rent_car = days % 7 + 1\n",
    "    \n",
    "    costs[\"Paris\"] = 200 + 20 * days + week_rent_car * 200\n",
    "    costs[\"London\"] = 250 + 30 * days + week_rent_car * 120\n",
    "    costs[\"Dubai\"] = 370 + 15 * days + week_rent_car * 80\n",
    "    costs[\"Mumbai\"] = 450 + 10 * days + week_rent_car * 70\n",
    "    \n",
    "    return costs\n",
    "\n",
    "import math\n",
    "\n",
    "print(\"Lowest cost for {} days: {}\".format(7, min(cost_of_trip(7))))\n",
    "print(\"Lowest cost for {} days: {}\".format(4, min(cost_of_trip(4))))\n",
    "print(\"Lowest cost for {} days: {}\".format(10, min(cost_of_trip(10))))\n",
    "print(\"Lowest cost for {} days: {}\".format(14, min(cost_of_trip(14))))"
   ]
  },
  {
   "cell_type": "markdown",
   "id": "7eba3025",
   "metadata": {},
   "source": [
    "## Working with Files in Python"
   ]
  },
  {
   "cell_type": "code",
   "execution_count": 46,
   "id": "e86f953d",
   "metadata": {},
   "outputs": [
    {
     "data": {
      "text/plain": [
       "'C:\\\\Users\\\\USER\\\\Python_Basics'"
      ]
     },
     "execution_count": 46,
     "metadata": {},
     "output_type": "execute_result"
    }
   ],
   "source": [
    "import os\n",
    "\n",
    "# get current working dir\n",
    "os.getcwd()"
   ]
  },
  {
   "cell_type": "code",
   "execution_count": 53,
   "id": "d132d59a",
   "metadata": {},
   "outputs": [
    {
     "name": "stdout",
     "output_type": "stream",
     "text": [
      "['.git', '.gitignore', '.idea', '.ipynb_checkpoints', 'data-visualization', 'dataStructure', 'dictionary', 'dynamicProg.py', 'filesAndException', 'function', 'fundamental', 'jovian.ai_course_note.ipynb', 'kaggle-courses', 'list', 'local', 'oop', 'README.md', 'selection', 'testing', 'tkinter', '__pycache__']\n",
      "['oop1.py', 'oop2.py', 'oop3.py', 'oop4.py']\n",
      "['.android', '.atom', '.bash_history', '.cache', '.config', '.eclipse', '.git', '.gitconfig', '.gitignore', '.idlerc', '.ipython', '.jupyter', '.lesshst', '.m2', '.matplotlib', '.minttyrc', '.ms-ad', '.node_repl_history', '.p2', '.ssh', '.VirtualBox', '.vscode', '2022-05-17-07-16-14.070-VirtualBox.exe-19828.log', '2022-05-18-03-04-23.072-VirtualBox.exe-20608.log', '3D Objects', 'algo', 'AppData', 'Application Data', 'chewzzz1014.github.io', 'Contacts', 'Cookies', 'Creative Cloud Files', 'Creative Cloud Files chewziqing@gmail.com 93d52eb1df105c2e7f99b4a0044100311375b3c31aa921d1d56eb65bb58ba937', 'css-exercises', 'data-engineering-zoomcamp', 'Desktop', 'Documents', 'Downloads', 'eclipse', 'eclipse-workspace', 'Favorites', 'GitChewzzz1014', 'html-css', 'java-basics', 'javascript-exercises', 'JavaScript_Basics', 'landing-page', 'Links', 'Local Settings', 'markdown-portfolio', 'MicrosoftEdgeBackups', 'Music', 'My Documents', 'mysql-installer-web-community-8.0.28.0.msi', 'NetHood', 'network-simulation', 'New folder', 'NTUSER.DAT', 'ntuser.dat.LOG1', 'ntuser.dat.LOG2', 'NTUSER.DAT{a530169b-e3a9-11eb-aa7d-dce4073a6ca6}.TM.blf', 'NTUSER.DAT{a530169b-e3a9-11eb-aa7d-dce4073a6ca6}.TMContainer00000000000000000001.regtrans-ms', 'NTUSER.DAT{a530169b-e3a9-11eb-aa7d-dce4073a6ca6}.TMContainer00000000000000000002.regtrans-ms', 'ntuser.ini', 'odin-recipes', 'OneDrive', 'Pictures', 'PrintHood', 'Programmes', 'PycharmProjects', 'Python_Basics', 'q', 'README.md', 'Recent', 'rock-paper-scissors', 'Saved Games', 'Searches', 'SendTo', 'space-invader', 'sql-basics', 'Start Menu', 'Templates', 'um-hackathon', 'Videos', 'VirtualBox VMs', 'VisualRoute', 'VisualRoute Lite Edition-Path', 'VisualRoute-Path', 'vw', 'Web-Dev-For-Beginners', 'x.exe', 'x.log']\n"
     ]
    }
   ],
   "source": [
    "# get list of files in current dir\n",
    "print(os.listdir())\n",
    "\n",
    "# relative path\n",
    "print(os.listdir(\"./oop\"))\n",
    "print(os.listdir(\"..\"))"
   ]
  },
  {
   "cell_type": "code",
   "execution_count": 56,
   "id": "3174f486",
   "metadata": {},
   "outputs": [
    {
     "name": "stdout",
     "output_type": "stream",
     "text": [
      "File existed!\n",
      "Is directory 'data'? True\n"
     ]
    }
   ],
   "source": [
    "# make new dir\n",
    "\n",
    "# if exist_ok is False, FileExistsError is raised if the target dir ady existed\n",
    "# exist_ok is false by default\n",
    "\n",
    "try:\n",
    "    os.makedirs(\"./data\", exist_ok = False)\n",
    "except FileExistsError:\n",
    "    print(\"File existed!\")\n",
    "    \n",
    "print(\"Is directory 'data'?\", ('data' in os.listdir(\".\")))"
   ]
  },
  {
   "cell_type": "code",
   "execution_count": 58,
   "id": "541e60c0",
   "metadata": {},
   "outputs": [
    {
     "data": {
      "text/plain": [
       "('./data/loans3.txt', <http.client.HTTPMessage at 0x26b908ce980>)"
      ]
     },
     "execution_count": 58,
     "metadata": {},
     "output_type": "execute_result"
    }
   ],
   "source": [
    "# download files into data directory using urlib module\n",
    "from urllib.request import urlretrieve\n",
    "\n",
    "url1 = 'https://gist.githubusercontent.com/aakashns/257f6e6c8719c17d0e498ea287d1a386/raw/7def9ef4234ddf0bc82f855ad67dac8b971852ef/loans1.txt'\n",
    "url2 = 'https://gist.githubusercontent.com/aakashns/257f6e6c8719c17d0e498ea287d1a386/raw/7def9ef4234ddf0bc82f855ad67dac8b971852ef/loans2.txt'\n",
    "url3 = 'https://gist.githubusercontent.com/aakashns/257f6e6c8719c17d0e498ea287d1a386/raw/7def9ef4234ddf0bc82f855ad67dac8b971852ef/loans3.txt'\n",
    "\n",
    "urlretrieve(url1, \"./data/loans1.txt\")\n",
    "urlretrieve(url2, \"./data/loans2.txt\")\n",
    "urlretrieve(url3, \"./data/loans3.txt\")"
   ]
  },
  {
   "cell_type": "code",
   "execution_count": 62,
   "id": "3bb6153b",
   "metadata": {},
   "outputs": [
    {
     "data": {
      "text/plain": [
       "['loans1.txt', 'loans2.txt', 'loans3.txt']"
      ]
     },
     "execution_count": 62,
     "metadata": {},
     "output_type": "execute_result"
    }
   ],
   "source": [
    "# successfully downloaded\n",
    "os.listdir(\"./data\")"
   ]
  },
  {
   "cell_type": "markdown",
   "id": "278b1d9b",
   "metadata": {},
   "source": [
    "## Reading from File"
   ]
  },
  {
   "cell_type": "code",
   "execution_count": 67,
   "id": "b1375abc",
   "metadata": {},
   "outputs": [
    {
     "name": "stdout",
     "output_type": "stream",
     "text": [
      "amount,duration,rate,down_payment\n",
      "100000,36,0.08,20000\n",
      "200000,12,0.1,\n",
      "628400,120,0.12,100000\n",
      "4637400,240,0.06,\n",
      "42900,90,0.07,8900\n",
      "916000,16,0.13,\n",
      "45230,48,0.08,4300\n",
      "991360,99,0.08,\n",
      "423000,27,0.09,47200\n"
     ]
    },
    {
     "ename": "NameError",
     "evalue": "name 'flie1' is not defined",
     "output_type": "error",
     "traceback": [
      "\u001b[1;31m---------------------------------------------------------------------------\u001b[0m",
      "\u001b[1;31mNameError\u001b[0m                                 Traceback (most recent call last)",
      "Input \u001b[1;32mIn [67]\u001b[0m, in \u001b[0;36m<cell line: 8>\u001b[1;34m()\u001b[0m\n\u001b[0;32m      5\u001b[0m \u001b[38;5;28mprint\u001b[39m(file1_contents)\n\u001b[0;32m      7\u001b[0m file1\u001b[38;5;241m.\u001b[39mclose()\n\u001b[1;32m----> 8\u001b[0m \u001b[43mflie1\u001b[49m\u001b[38;5;241m.\u001b[39mread()\n",
      "\u001b[1;31mNameError\u001b[0m: name 'flie1' is not defined"
     ]
    }
   ],
   "source": [
    "# open(location, mode) return a file object and provides methods for interacting with files\n",
    "file1 = open(\"./data/loans1.txt\", mode = 'r')\n",
    "\n",
    "# read whole file\n",
    "file1_contents = file1.read()\n",
    "print(file1_contents)\n",
    "\n",
    "file1.close()\n",
    "flie1.read()   # error"
   ]
  },
  {
   "cell_type": "code",
   "execution_count": 69,
   "id": "77b26109",
   "metadata": {},
   "outputs": [
    {
     "name": "stdout",
     "output_type": "stream",
     "text": [
      "amount,duration,rate,down_payment\n",
      "100000,36,0.08,20000\n",
      "200000,12,0.1,\n",
      "628400,120,0.12,100000\n",
      "4637400,240,0.06,\n",
      "42900,90,0.07,8900\n",
      "916000,16,0.13,\n",
      "45230,48,0.08,4300\n",
      "991360,99,0.08,\n",
      "423000,27,0.09,47200\n"
     ]
    }
   ],
   "source": [
    "# or\n",
    "\n",
    "# close the file after block\n",
    "# read whole file\n",
    "with open(\"./data/loans1.txt\", 'r') as file_obj:\n",
    "    file_contents = file_obj.read()\n",
    "    print(file_contents)"
   ]
  },
  {
   "cell_type": "code",
   "execution_count": 73,
   "id": "ff480d48",
   "metadata": {},
   "outputs": [
    {
     "name": "stdout",
     "output_type": "stream",
     "text": [
      "['amount,duration,rate,down_payment\\n', '100000,36,0.08,20000\\n', '200000,12,0.1,\\n', '628400,120,0.12,100000\\n', '4637400,240,0.06,\\n', '42900,90,0.07,8900\\n', '916000,16,0.13,\\n', '45230,48,0.08,4300\\n', '991360,99,0.08,\\n', '423000,27,0.09,47200']\n",
      "<class 'list'>\n"
     ]
    }
   ],
   "source": [
    "# read line by line\n",
    "with open(\"./data/loans1.txt\", 'r') as file2:\n",
    "    file2_lines = file2.readlines()\n",
    "\n",
    "# a list    \n",
    "print(file2_lines)\n",
    "print(type(file2_lines))"
   ]
  },
  {
   "cell_type": "code",
   "execution_count": null,
   "id": "9a9fddc7",
   "metadata": {},
   "outputs": [],
   "source": []
  },
  {
   "cell_type": "code",
   "execution_count": null,
   "id": "5295b663",
   "metadata": {},
   "outputs": [],
   "source": []
  },
  {
   "cell_type": "code",
   "execution_count": null,
   "id": "545e1144",
   "metadata": {},
   "outputs": [],
   "source": []
  },
  {
   "cell_type": "code",
   "execution_count": null,
   "id": "3459d193",
   "metadata": {},
   "outputs": [],
   "source": []
  }
 ],
 "metadata": {
  "kernelspec": {
   "display_name": "Python 3 (ipykernel)",
   "language": "python",
   "name": "python3"
  },
  "language_info": {
   "codemirror_mode": {
    "name": "ipython",
    "version": 3
   },
   "file_extension": ".py",
   "mimetype": "text/x-python",
   "name": "python",
   "nbconvert_exporter": "python",
   "pygments_lexer": "ipython3",
   "version": "3.10.0"
  }
 },
 "nbformat": 4,
 "nbformat_minor": 5
}
