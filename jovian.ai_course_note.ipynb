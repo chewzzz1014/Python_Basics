{
 "cells": [
  {
   "cell_type": "code",
   "execution_count": 1,
   "id": "a64b61ed",
   "metadata": {},
   "outputs": [
    {
     "data": {
      "text/plain": [
       "125.0"
      ]
     },
     "execution_count": 1,
     "metadata": {},
     "output_type": "execute_result"
    }
   ],
   "source": [
    "500 * (1.25 * 0.2)"
   ]
  },
  {
   "cell_type": "code",
   "execution_count": 2,
   "id": "6aa6491a",
   "metadata": {},
   "outputs": [],
   "source": [
    "def cal_profit(num_bags, price_per_bag, percentage_profit):\n",
    "    return num_bags * (price_per_bag * (percentage_profit/100))"
   ]
  },
  {
   "cell_type": "code",
   "execution_count": 3,
   "id": "ab8acfd8",
   "metadata": {},
   "outputs": [
    {
     "data": {
      "text/plain": [
       "125.0"
      ]
     },
     "execution_count": 3,
     "metadata": {},
     "output_type": "execute_result"
    }
   ],
   "source": [
    "cal_profit(500, 1.25, 20)"
   ]
  },
  {
   "cell_type": "code",
   "execution_count": 4,
   "id": "ddb56547",
   "metadata": {},
   "outputs": [],
   "source": [
    "def calc_revenue(cost, num_passengers, ticket_price):\n",
    "    return num_passengers * ticket_price - cost"
   ]
  },
  {
   "cell_type": "code",
   "execution_count": 5,
   "id": "f0141a40",
   "metadata": {},
   "outputs": [
    {
     "data": {
      "text/plain": [
       "800"
      ]
     },
     "execution_count": 5,
     "metadata": {},
     "output_type": "execute_result"
    }
   ],
   "source": [
    "calc_revenue(5000, 29, 200)"
   ]
  },
  {
   "cell_type": "markdown",
   "id": "8127c34d",
   "metadata": {},
   "source": [
    "# Header 1\n",
    "## Header 2\n",
    "\n",
    "* Apple\n",
    "* Banana\n",
    "* Orange\n"
   ]
  },
  {
   "cell_type": "code",
   "execution_count": 30,
   "id": "460631b5",
   "metadata": {},
   "outputs": [
    {
     "name": "stdout",
     "output_type": "stream",
     "text": [
      " : False.    is falsy\n",
      "\n",
      "[] : False.   [] is falsy\n",
      "\n",
      "{} : False.   {} is falsy\n",
      "\n",
      "() : False.   () is falsy\n",
      "\n",
      "None : False.   None is falsy\n",
      "\n",
      "range(0, 0) : False.   range(0, 0) is falsy\n",
      "\n"
     ]
    }
   ],
   "source": [
    "# Python has falsy values \n",
    "falsy = [\"\", [], {}, (), None, range(0)]\n",
    "\n",
    "for ele in falsy: \n",
    "    print(ele, \":\", bool(ele), end=\".   \")\n",
    "    \n",
    "    if ele:\n",
    "        print(\"{} is truthy\".format(ele))\n",
    "    else:\n",
    "        print(\"{} is falsy\".format(ele))\n",
    "    \n",
    "    print()"
   ]
  },
  {
   "cell_type": "code",
   "execution_count": 15,
   "id": "d5cdc027",
   "metadata": {},
   "outputs": [
    {
     "data": {
      "text/plain": [
       "NoneType"
      ]
     },
     "execution_count": 15,
     "metadata": {},
     "output_type": "execute_result"
    }
   ],
   "source": [
    "# None: absence of value\n",
    "type(None)"
   ]
  },
  {
   "cell_type": "code",
   "execution_count": 17,
   "id": "fbb2cf8e",
   "metadata": {},
   "outputs": [
    {
     "name": "stdout",
     "output_type": "stream",
     "text": [
      "The price is RM245.99 and progit margin is 0.75%. So the profit is RM184.4925\n"
     ]
    }
   ],
   "source": [
    "# formatting\n",
    "profit_margin = 0.75\n",
    "price = 245.99\n",
    "\n",
    "print(\"The price is RM{} and progit margin is {}%. So the profit is RM{}\"\n",
    "      .format(price, profit_margin, price*profit_margin))"
   ]
  },
  {
   "cell_type": "code",
   "execution_count": 20,
   "id": "e70d78cb",
   "metadata": {},
   "outputs": [
    {
     "data": {
      "text/plain": [
       "[]"
      ]
     },
     "execution_count": 20,
     "metadata": {},
     "output_type": "execute_result"
    }
   ],
   "source": [
    "a_list = [False, \"rtgg\", 3435, None, [\"A\", \"B\", \"C\"]]\n",
    "a_list[-2: -5]"
   ]
  },
  {
   "cell_type": "code",
   "execution_count": 23,
   "id": "7bbd83a1",
   "metadata": {},
   "outputs": [
    {
     "name": "stdout",
     "output_type": "stream",
     "text": [
      "<class 'tuple'>\n",
      "<class 'tuple'>\n"
     ]
    }
   ],
   "source": [
    "# creation of tuple: with or w/o parenthesis\n",
    "my_tuple = (\"Cat\", \"Meow\", \"Woof\")\n",
    "my_tuple_1 = \"Cat\", \"Meow\", \"Woof\"\n",
    "tuple_one_ele = \"Wooff\",\n",
    "\n",
    "print(type(my_tuple_1))\n",
    "print(type(tuple_one_ele))"
   ]
  },
  {
   "cell_type": "code",
   "execution_count": 24,
   "id": "50586869",
   "metadata": {},
   "outputs": [],
   "source": [
    "?my_tuple.index"
   ]
  },
  {
   "cell_type": "code",
   "execution_count": 26,
   "id": "5c37ebc5",
   "metadata": {},
   "outputs": [
    {
     "data": {
      "text/plain": [
       "dict_items"
      ]
     },
     "execution_count": 26,
     "metadata": {},
     "output_type": "execute_result"
    }
   ],
   "source": [
    "my_dict = { \"name\": \"chewzzz\", \"age\": 20, \"isStudent\": True}\n",
    "type(my_dict.items())"
   ]
  },
  {
   "cell_type": "code",
   "execution_count": 32,
   "id": "717e91fc",
   "metadata": {},
   "outputs": [
    {
     "data": {
      "text/plain": [
       "'no'"
      ]
     },
     "execution_count": 32,
     "metadata": {},
     "output_type": "execute_result"
    }
   ],
   "source": [
    "def check_parity(n):\n",
    "    divisibleBy2 = \"yes\" if (n % 2==0) else \"no\"\n",
    "    return divisibleBy2\n",
    "check_parity(231)"
   ]
  },
  {
   "cell_type": "code",
   "execution_count": 34,
   "id": "dd145715",
   "metadata": {},
   "outputs": [],
   "source": [
    "# using pass to do nothing to avoid error\n",
    "def divisible(n):\n",
    "    if n % 2 == 0:\n",
    "        pass      # mandatory to have at least one line of statement\n",
    "    elif n % 3 == 0:\n",
    "        print(\"Divisible by 3\")\n",
    "        \n",
    "divisible(4)   # no output. nothing happen"
   ]
  },
  {
   "cell_type": "code",
   "execution_count": 36,
   "id": "a84eceeb",
   "metadata": {},
   "outputs": [
    {
     "data": {
      "text/plain": [
       "[2, 4, 6]"
      ]
     },
     "execution_count": 36,
     "metadata": {},
     "output_type": "execute_result"
    }
   ],
   "source": [
    "def filter_even(number_list):\n",
    "    return [x for x in number_list if x%2==0]\n",
    "filter_even([x for x in range(1, 8)])"
   ]
  },
  {
   "cell_type": "code",
   "execution_count": 37,
   "id": "57f5cdc7",
   "metadata": {},
   "outputs": [
    {
     "name": "stdout",
     "output_type": "stream",
     "text": [
      "Division by 0!\n",
      "None\n"
     ]
    }
   ],
   "source": [
    "# exception\n",
    "def divisionBy0(n):\n",
    "    try: # step 1\n",
    "        print(\"Calculation\")   # step 2 \n",
    "        result = n / 0    # step 3.Error found!\n",
    "        print(\"Calculated successfully\")\n",
    "    except ZeroDivisionError: #step 4\n",
    "        print(\"Division by 0!\")\n",
    "        result = None\n",
    "print(divisionBy0(4))"
   ]
  },
  {
   "cell_type": "code",
   "execution_count": 45,
   "id": "f5cefc4e",
   "metadata": {},
   "outputs": [
    {
     "name": "stdout",
     "output_type": "stream",
     "text": [
      "Lowest cost for 7 days: Dubai\n",
      "Lowest cost for 4 days: Dubai\n",
      "Lowest cost for 10 days: Dubai\n",
      "Lowest cost for 14 days: Dubai\n"
     ]
    }
   ],
   "source": [
    "def cost_of_trip(days):\n",
    "    costs = {}\n",
    "    week_rent_car = days % 7 + 1\n",
    "    \n",
    "    costs[\"Paris\"] = 200 + 20 * days + week_rent_car * 200\n",
    "    costs[\"London\"] = 250 + 30 * days + week_rent_car * 120\n",
    "    costs[\"Dubai\"] = 370 + 15 * days + week_rent_car * 80\n",
    "    costs[\"Mumbai\"] = 450 + 10 * days + week_rent_car * 70\n",
    "    \n",
    "    return costs\n",
    "\n",
    "import math\n",
    "\n",
    "print(\"Lowest cost for {} days: {}\".format(7, min(cost_of_trip(7))))\n",
    "print(\"Lowest cost for {} days: {}\".format(4, min(cost_of_trip(4))))\n",
    "print(\"Lowest cost for {} days: {}\".format(10, min(cost_of_trip(10))))\n",
    "print(\"Lowest cost for {} days: {}\".format(14, min(cost_of_trip(14))))"
   ]
  },
  {
   "cell_type": "markdown",
   "id": "5e0357ea",
   "metadata": {},
   "source": [
    "## Working with Files in Python"
   ]
  },
  {
   "cell_type": "code",
   "execution_count": null,
   "id": "e2e87b5f",
   "metadata": {},
   "outputs": [],
   "source": []
  },
  {
   "cell_type": "code",
   "execution_count": null,
   "id": "0c71060a",
   "metadata": {},
   "outputs": [],
   "source": []
  },
  {
   "cell_type": "code",
   "execution_count": null,
   "id": "c6935fc0",
   "metadata": {},
   "outputs": [],
   "source": []
  },
  {
   "cell_type": "code",
   "execution_count": null,
   "id": "9a8f349c",
   "metadata": {},
   "outputs": [],
   "source": []
  },
  {
   "cell_type": "code",
   "execution_count": null,
   "id": "c104ca98",
   "metadata": {},
   "outputs": [],
   "source": []
  },
  {
   "cell_type": "code",
   "execution_count": null,
   "id": "d46ab049",
   "metadata": {},
   "outputs": [],
   "source": []
  },
  {
   "cell_type": "code",
   "execution_count": null,
   "id": "2eb1b240",
   "metadata": {},
   "outputs": [],
   "source": []
  }
 ],
 "metadata": {
  "kernelspec": {
   "display_name": "Python 3 (ipykernel)",
   "language": "python",
   "name": "python3"
  },
  "language_info": {
   "codemirror_mode": {
    "name": "ipython",
    "version": 3
   },
   "file_extension": ".py",
   "mimetype": "text/x-python",
   "name": "python",
   "nbconvert_exporter": "python",
   "pygments_lexer": "ipython3",
   "version": "3.10.0"
  }
 },
 "nbformat": 4,
 "nbformat_minor": 5
}
