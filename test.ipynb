{
 "cells": [
  {
   "cell_type": "code",
   "execution_count": 1,
   "id": "42503fca-c95f-4005-9938-5fab407b93bd",
   "metadata": {},
   "outputs": [
    {
     "name": "stdout",
     "output_type": "stream",
     "text": [
      "<option value=\"Johor\">Johor</option>\n",
      "<option value=\"Kedah\">Kedah</option>\n",
      "<option value=\"Kelantan\">Kelantan</option>\n",
      "<option value=\"Kuala Lumpur\">Kuala Lumpur</option>\n",
      "<option value=\"Labuan\">Labuan</option>\n",
      "<option value=\"Malacca\">Malacca</option>\n",
      "<option value=\"Negeri Sembilan\">Negeri Sembilan</option>\n",
      "<option value=\"Pahang\">Pahang</option>\n",
      "<option value=\"Penang\">Penang</option>\n",
      "<option value=\"Perak\">Perak</option>\n",
      "<option value=\"Perlis\">Perlis</option>\n",
      "<option value=\"Putrajaya\">Putrajaya</option>\n",
      "<option value=\"Sabah\">Sabah</option>\n",
      "<option value=\"Sarawak\">Sarawak</option>\n",
      "<option value=\"Selangor\">Selangor</option>\n",
      "<option value=\"Terangganu\">Terangganu</option>\n"
     ]
    }
   ],
   "source": [
    "states = \"Johor,Kedah,Kelantan,Kuala Lumpur,Labuan,Malacca,Negeri Sembilan,Pahang,Penang,Perak,Perlis,Putrajaya,Sabah,Sarawak,Selangor,Terangganu\"\n",
    "\n",
    "for s in states.split(\",\"):\n",
    "    print(f\"<option value=\\\"{s}\\\">{s}</option>\")"
   ]
  }
 ],
 "metadata": {
  "kernelspec": {
   "display_name": "Python 3 (ipykernel)",
   "language": "python",
   "name": "python3"
  },
  "language_info": {
   "codemirror_mode": {
    "name": "ipython",
    "version": 3
   },
   "file_extension": ".py",
   "mimetype": "text/x-python",
   "name": "python",
   "nbconvert_exporter": "python",
   "pygments_lexer": "ipython3",
   "version": "3.10.0"
  }
 },
 "nbformat": 4,
 "nbformat_minor": 5
}
